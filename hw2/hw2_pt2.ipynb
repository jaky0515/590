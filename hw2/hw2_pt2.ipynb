{
 "cells": [
  {
   "cell_type": "code",
   "execution_count": 32,
   "metadata": {},
   "outputs": [],
   "source": [
    "# modules\n",
    "import numpy as np\n",
    "import matplotlib.pyplot as plt\n",
    "from keras.datasets import fashion_mnist\n",
    "# Importing core neural networks layers \n",
    "from keras.layers import Dense, Dropout, Activation, Flatten, UpSampling2D\n",
    "# Importing CNN layers\n",
    "from keras.layers import Conv2D, MaxPooling2D, Input\n",
    "# Importing the sequential model in Keras\n",
    "# Used as a linear stack of nn layers\n",
    "from keras.models import Sequential, Model\n",
    "# Tools for data transformation\n",
    "from keras.utils import np_utils\n",
    "from keras.callbacks import EarlyStopping\n",
    "from keras.applications import VGG16\n",
    "from keras.optimizers import RMSprop\n",
    "from keras.preprocessing.image import img_to_array\n",
    "from keras.preprocessing.image import array_to_img"
   ]
  },
  {
   "cell_type": "markdown",
   "metadata": {},
   "source": [
    "# 2 Image Classification\n",
    "We’ll continue to use the Fashion MNIST dataset and build a deep convolutional network for classification.\n",
    "## 2.1 Deep CNN\n",
    "Build a deep CNN to classify the images. Provide a brief description of the architectural choices you’ve made: kernel sizes, strides, padding, network depth. Train your network end-to-end. Report on your model’s performance on training set and test set.\n",
    "## 2.2 Transfer Learning\n",
    "Repeat the same task, but this time utilize a pre-trained network for the major- ity of your model. You should only train the final Dense layer, all other weights should be fixed. You can use whichever pre-trained backbone you like (ResNet, VGG, etc). Report on your model’s performance on training set and test set."
   ]
  },
  {
   "cell_type": "code",
   "execution_count": 2,
   "metadata": {},
   "outputs": [],
   "source": [
    "# 2.1 Deep CNN\n",
    "\n",
    "\"\"\"\n",
    "Kernel Size :\n",
    "    - 3 x 3\n",
    "Strides :\n",
    "    - 1 x 1\n",
    "Padding : \n",
    "    - Valid (no padding)\n",
    "Network Depth : \n",
    "    - 2 Convolution Layers\n",
    "    - 1 Max Pooling\n",
    "    - 2 Dense Layers\n",
    "\"\"\"\n",
    "\n",
    "# Data Munging/Reshaping\n",
    "# Load pre-shuffled Fashion MNIST data into train and test sets\n",
    "(x_train, y_train), (x_test, y_test) = fashion_mnist.load_data()\n",
    "# Declaring a depth of 1 for MNIST\n",
    "x_train = x_train.reshape(x_train.shape[0], 28, 28,1)\n",
    "x_test = x_test.reshape(x_test.shape[0], 28, 28,1)\n",
    "# Setting up calues as float32s that are bounded between 0 and 1\n",
    "x_train = x_train.astype('float32')\n",
    "x_test = x_test.astype('float32')\n",
    "x_train /= 255\n",
    "x_test /= 255\n",
    "# Convert 1-dimensional class arrays to 10-dimensional class matrices\n",
    "y_train = np_utils.to_categorical(y_train, 10)\n",
    "y_test = np_utils.to_categorical(y_test, 10)"
   ]
  },
  {
   "cell_type": "code",
   "execution_count": 3,
   "metadata": {},
   "outputs": [
    {
     "name": "stdout",
     "output_type": "stream",
     "text": [
      "_________________________________________________________________\n",
      "Layer (type)                 Output Shape              Param #   \n",
      "=================================================================\n",
      "conv2d_1 (Conv2D)            (None, 26, 26, 32)        320       \n",
      "_________________________________________________________________\n",
      "conv2d_2 (Conv2D)            (None, 24, 24, 32)        9248      \n",
      "_________________________________________________________________\n",
      "max_pooling2d_1 (MaxPooling2 (None, 12, 12, 32)        0         \n",
      "_________________________________________________________________\n",
      "dropout_1 (Dropout)          (None, 12, 12, 32)        0         \n",
      "_________________________________________________________________\n",
      "flatten_1 (Flatten)          (None, 4608)              0         \n",
      "_________________________________________________________________\n",
      "dense_1 (Dense)              (None, 64)                294976    \n",
      "_________________________________________________________________\n",
      "dropout_2 (Dropout)          (None, 64)                0         \n",
      "_________________________________________________________________\n",
      "dense_2 (Dense)              (None, 10)                650       \n",
      "=================================================================\n",
      "Total params: 305,194\n",
      "Trainable params: 305,194\n",
      "Non-trainable params: 0\n",
      "_________________________________________________________________\n",
      "None\n"
     ]
    }
   ],
   "source": [
    "# Declaring sequential model\n",
    "model = Sequential()\n",
    "# CNN input layer: input_shape: (depth,width,height)\n",
    "# CNN convolution: number of filters, height and width of kernel\n",
    "model.add(Conv2D(filters = 32,kernel_size=(3, 3), \n",
    "                 activation='relu', strides=(1, 1), \n",
    "                 padding='valid',\n",
    "                 input_shape=(28,28,1)))\n",
    "model.add(Conv2D(filters = 32,kernel_size=(3, 3), \n",
    "                 activation='relu', strides=(1, 1), \n",
    "                 padding='valid', input_shape=(28,28,1)))\n",
    "model.add(MaxPooling2D(pool_size=(2,2)))\n",
    "model.add(Dropout(0.25))\n",
    "# Setting up the fully connected lauer\n",
    "model.add(Flatten())\n",
    "model.add(Dense(64, activation='relu'))\n",
    "model.add(Dropout(0.5))\n",
    "model.add(Dense(10, activation='softmax'))\n",
    "print(model.summary())"
   ]
  },
  {
   "cell_type": "code",
   "execution_count": 4,
   "metadata": {},
   "outputs": [
    {
     "name": "stdout",
     "output_type": "stream",
     "text": [
      "Train on 60000 samples, validate on 10000 samples\n",
      "Epoch 1/100\n",
      "60000/60000 [==============================] - 95s 2ms/step - loss: 0.6488 - acc: 0.7746 - val_loss: 0.3927 - val_acc: 0.8603\n",
      "Epoch 2/100\n",
      "60000/60000 [==============================] - 94s 2ms/step - loss: 0.4289 - acc: 0.8495 - val_loss: 0.3302 - val_acc: 0.8828\n",
      "Epoch 3/100\n",
      "60000/60000 [==============================] - 94s 2ms/step - loss: 0.3757 - acc: 0.8668 - val_loss: 0.3015 - val_acc: 0.8942\n",
      "Epoch 4/100\n",
      "60000/60000 [==============================] - 91s 2ms/step - loss: 0.3434 - acc: 0.8761 - val_loss: 0.2869 - val_acc: 0.8994\n",
      "Epoch 5/100\n",
      "60000/60000 [==============================] - 93s 2ms/step - loss: 0.3203 - acc: 0.8861 - val_loss: 0.2642 - val_acc: 0.9035\n",
      "Epoch 6/100\n",
      "60000/60000 [==============================] - 92s 2ms/step - loss: 0.3004 - acc: 0.8933 - val_loss: 0.2504 - val_acc: 0.9091\n",
      "Epoch 7/100\n",
      "60000/60000 [==============================] - 93s 2ms/step - loss: 0.2874 - acc: 0.8967 - val_loss: 0.2448 - val_acc: 0.9130\n",
      "Epoch 8/100\n",
      "60000/60000 [==============================] - 91s 2ms/step - loss: 0.2696 - acc: 0.9003 - val_loss: 0.2392 - val_acc: 0.9142\n",
      "Epoch 9/100\n",
      "60000/60000 [==============================] - 91s 2ms/step - loss: 0.2608 - acc: 0.9044 - val_loss: 0.2370 - val_acc: 0.9165\n",
      "Epoch 10/100\n",
      "60000/60000 [==============================] - 92s 2ms/step - loss: 0.2492 - acc: 0.9071 - val_loss: 0.2358 - val_acc: 0.9170\n",
      "Epoch 11/100\n",
      "60000/60000 [==============================] - 93s 2ms/step - loss: 0.2424 - acc: 0.9115 - val_loss: 0.2279 - val_acc: 0.9178\n",
      "Epoch 12/100\n",
      "60000/60000 [==============================] - 95s 2ms/step - loss: 0.2329 - acc: 0.9149 - val_loss: 0.2322 - val_acc: 0.9173\n",
      "Epoch 13/100\n",
      "60000/60000 [==============================] - 103s 2ms/step - loss: 0.2304 - acc: 0.9146 - val_loss: 0.2302 - val_acc: 0.9197\n",
      "Epoch 14/100\n",
      "60000/60000 [==============================] - 79s 1ms/step - loss: 0.2192 - acc: 0.9187 - val_loss: 0.2265 - val_acc: 0.9192\n",
      "Epoch 15/100\n",
      "60000/60000 [==============================] - 64s 1ms/step - loss: 0.2144 - acc: 0.9203 - val_loss: 0.2236 - val_acc: 0.9211\n",
      "Epoch 16/100\n",
      "60000/60000 [==============================] - 69s 1ms/step - loss: 0.2091 - acc: 0.9205 - val_loss: 0.2238 - val_acc: 0.9194\n",
      "Epoch 17/100\n",
      "60000/60000 [==============================] - 66s 1ms/step - loss: 0.2048 - acc: 0.9235 - val_loss: 0.2226 - val_acc: 0.9237\n",
      "Epoch 18/100\n",
      "60000/60000 [==============================] - 63s 1ms/step - loss: 0.1998 - acc: 0.9254 - val_loss: 0.2270 - val_acc: 0.9212\n",
      "Epoch 19/100\n",
      "60000/60000 [==============================] - 65s 1ms/step - loss: 0.1914 - acc: 0.9277 - val_loss: 0.2240 - val_acc: 0.9214\n",
      "Epoch 20/100\n",
      "60000/60000 [==============================] - 61s 1ms/step - loss: 0.1922 - acc: 0.9276 - val_loss: 0.2251 - val_acc: 0.9250\n",
      "Epoch 21/100\n",
      "60000/60000 [==============================] - 63s 1ms/step - loss: 0.1851 - acc: 0.9304 - val_loss: 0.2345 - val_acc: 0.9172\n",
      "Epoch 22/100\n",
      "60000/60000 [==============================] - 64s 1ms/step - loss: 0.1843 - acc: 0.9302 - val_loss: 0.2228 - val_acc: 0.9257\n",
      "Epoch 23/100\n",
      "60000/60000 [==============================] - 64s 1ms/step - loss: 0.1787 - acc: 0.9326 - val_loss: 0.2270 - val_acc: 0.9229\n",
      "Epoch 24/100\n",
      "60000/60000 [==============================] - 62s 1ms/step - loss: 0.1749 - acc: 0.9337 - val_loss: 0.2213 - val_acc: 0.9265\n",
      "Epoch 25/100\n",
      "60000/60000 [==============================] - 62s 1ms/step - loss: 0.1724 - acc: 0.9344 - val_loss: 0.2265 - val_acc: 0.9253\n",
      "Epoch 26/100\n",
      "60000/60000 [==============================] - 63s 1ms/step - loss: 0.1711 - acc: 0.9345 - val_loss: 0.2247 - val_acc: 0.9228\n",
      "Epoch 27/100\n",
      "60000/60000 [==============================] - 67s 1ms/step - loss: 0.1671 - acc: 0.9343 - val_loss: 0.2344 - val_acc: 0.9231\n",
      "Epoch 28/100\n",
      "60000/60000 [==============================] - 66s 1ms/step - loss: 0.1629 - acc: 0.9377 - val_loss: 0.2309 - val_acc: 0.9253\n",
      "Epoch 29/100\n",
      "60000/60000 [==============================] - 66s 1ms/step - loss: 0.1633 - acc: 0.9373 - val_loss: 0.2276 - val_acc: 0.9248\n",
      "Epoch 30/100\n",
      "60000/60000 [==============================] - 68s 1ms/step - loss: 0.1605 - acc: 0.9382 - val_loss: 0.2467 - val_acc: 0.9225\n",
      "Epoch 31/100\n",
      "60000/60000 [==============================] - 67s 1ms/step - loss: 0.1583 - acc: 0.9390 - val_loss: 0.2407 - val_acc: 0.9231\n",
      "Epoch 00031: early stopping\n"
     ]
    }
   ],
   "source": [
    "#  Compiling the model\n",
    "model.compile(loss='categorical_crossentropy',\n",
    "              optimizer='adam',\n",
    "              metrics=['accuracy'])\n",
    "# Fitting the model\n",
    "history = model.fit(x_train, y_train,\n",
    "                    epochs=100,\n",
    "                    batch_size=128,\n",
    "                    shuffle=True,\n",
    "                    validation_data=(x_test, y_test),\n",
    "                    callbacks=[EarlyStopping(monitor='val_loss', min_delta=0, patience=7, verbose=1, mode='auto')])"
   ]
  },
  {
   "cell_type": "code",
   "execution_count": 5,
   "metadata": {},
   "outputs": [
    {
     "name": "stdout",
     "output_type": "stream",
     "text": [
      "10000/10000 [==============================] - 3s 252us/step\n",
      "[0.24069012755155564, 0.9231]\n"
     ]
    }
   ],
   "source": [
    "#  Evaluating the model\n",
    "score = model.evaluate(x_test, y_test, verbose=1)\n",
    "print(score)"
   ]
  },
  {
   "cell_type": "code",
   "execution_count": 6,
   "metadata": {},
   "outputs": [
    {
     "data": {
      "image/png": "[encoded data removed]",
      "text/plain": [
       "<Figure size 432x288 with 1 Axes>"
      ]
     },
     "metadata": {},
     "output_type": "display_data"
    }
   ],
   "source": [
    "# Plot\n",
    "loss = history.history['loss']\n",
    "val_loss = history.history['val_loss']\n",
    "epochs = range(1,len(loss) + 1)\n",
    "plt.plot( epochs, loss, 'r', label = 'Training Loss')\n",
    "plt.plot( epochs, val_loss, 'b', label = 'Validation Loss')\n",
    "plt.title('Training and validation loss')\n",
    "plt.legend()\n",
    "plt.show()"
   ]
  },
  {
   "cell_type": "code",
   "execution_count": 68,
   "metadata": {},
   "outputs": [
    {
     "name": "stdout",
     "output_type": "stream",
     "text": [
      "60000/60000 [==============================] - 614s 10ms/step\n",
      "10000/10000 [==============================] - 106s 11ms/step\n"
     ]
    }
   ],
   "source": [
    "# 2.2 Transfer Learning\n",
    "# Data Munging/Reshaping\n",
    "# Load pre-shuffled Fashion MNIST data into train and test sets\n",
    "(x_train, y_train), (x_test, y_test) = fashion_mnist.load_data()\n",
    "# Declaring a depth of 1 for MNIST\n",
    "x_train = x_train.reshape(x_train.shape[0], 784)\n",
    "x_test = x_test.reshape(x_test.shape[0], 784)\n",
    "# Setting up calues as float32s that are bounded between 0 and 1\n",
    "x_train = x_train.astype('float32')\n",
    "x_test = x_test.astype('float32')\n",
    "x_train = np.dstack([x_train] * 3)\n",
    "x_test = np.dstack([x_test] * 3)\n",
    "x_train = x_train.reshape(x_train.shape[0], 28, 28, 3)\n",
    "x_test = x_test.reshape(x_test.shape[0], 28, 28, 3)\n",
    "x_train = x_train.astype('float32')\n",
    "x_test = x_test.astype('float32')\n",
    "x_train = np.asarray([img_to_array(array_to_img(im, scale=False).resize((48,48))) for im in x_train])\n",
    "x_test = np.asarray([img_to_array(array_to_img(im, scale=False).resize((48,48))) for im in x_test])\n",
    "x_train /= 255\n",
    "x_test /= 255\n",
    "# x_train = preprocess_input(x_train)\n",
    "# x_test = preprocess_input(x_test)\n",
    "# Convert 1-dimensional class arrays to 10-dimensional class matrices\n",
    "y_train = np_utils.to_categorical(y_train, 10)\n",
    "y_test = np_utils.to_categorical(y_test, 10)\n",
    "# Extract features\n",
    "train_features = conv_base.predict(np.array(x_train), batch_size=16, verbose=1)\n",
    "test_features = conv_base.predict(np.array(x_test), batch_size=16, verbose=1)"
   ]
  },
  {
   "cell_type": "code",
   "execution_count": 69,
   "metadata": {},
   "outputs": [
    {
     "name": "stdout",
     "output_type": "stream",
     "text": [
      "_________________________________________________________________\n",
      "Layer (type)                 Output Shape              Param #   \n",
      "=================================================================\n",
      "vgg16 (Model)                (None, 1, 1, 512)         14714688  \n",
      "_________________________________________________________________\n",
      "flatten_10 (Flatten)         (None, 512)               0         \n",
      "_________________________________________________________________\n",
      "dense_19 (Dense)             (None, 10)                5130      \n",
      "=================================================================\n",
      "Total params: 14,719,818\n",
      "Trainable params: 14,719,818\n",
      "Non-trainable params: 0\n",
      "_________________________________________________________________\n"
     ]
    }
   ],
   "source": [
    "# Transfer Learning with VGG backbone\n",
    "conv_base = VGG16(weights=\"imagenet\",\n",
    "                  include_top=False,\n",
    "                  input_shape=(48,48,3))\n",
    "# Build a model\n",
    "model = Sequential()\n",
    "model.add(conv_base)\n",
    "model.add(Flatten())\n",
    "model.add(Dense(10, activation=\"sigmoid\"))\n",
    "model.summary()"
   ]
  },
  {
   "cell_type": "code",
   "execution_count": 70,
   "metadata": {},
   "outputs": [
    {
     "data": {
      "text/plain": [
       "[<tf.Variable 'block1_conv1_12/kernel:0' shape=(3, 3, 3, 64) dtype=float32_ref>,\n",
       " <tf.Variable 'block1_conv1_12/bias:0' shape=(64,) dtype=float32_ref>,\n",
       " <tf.Variable 'block1_conv2_12/kernel:0' shape=(3, 3, 64, 64) dtype=float32_ref>,\n",
       " <tf.Variable 'block1_conv2_12/bias:0' shape=(64,) dtype=float32_ref>,\n",
       " <tf.Variable 'block2_conv1_12/kernel:0' shape=(3, 3, 64, 128) dtype=float32_ref>,\n",
       " <tf.Variable 'block2_conv1_12/bias:0' shape=(128,) dtype=float32_ref>,\n",
       " <tf.Variable 'block2_conv2_12/kernel:0' shape=(3, 3, 128, 128) dtype=float32_ref>,\n",
       " <tf.Variable 'block2_conv2_12/bias:0' shape=(128,) dtype=float32_ref>,\n",
       " <tf.Variable 'block3_conv1_12/kernel:0' shape=(3, 3, 128, 256) dtype=float32_ref>,\n",
       " <tf.Variable 'block3_conv1_12/bias:0' shape=(256,) dtype=float32_ref>,\n",
       " <tf.Variable 'block3_conv2_12/kernel:0' shape=(3, 3, 256, 256) dtype=float32_ref>,\n",
       " <tf.Variable 'block3_conv2_12/bias:0' shape=(256,) dtype=float32_ref>,\n",
       " <tf.Variable 'block3_conv3_12/kernel:0' shape=(3, 3, 256, 256) dtype=float32_ref>,\n",
       " <tf.Variable 'block3_conv3_12/bias:0' shape=(256,) dtype=float32_ref>,\n",
       " <tf.Variable 'block4_conv1_12/kernel:0' shape=(3, 3, 256, 512) dtype=float32_ref>,\n",
       " <tf.Variable 'block4_conv1_12/bias:0' shape=(512,) dtype=float32_ref>,\n",
       " <tf.Variable 'block4_conv2_12/kernel:0' shape=(3, 3, 512, 512) dtype=float32_ref>,\n",
       " <tf.Variable 'block4_conv2_12/bias:0' shape=(512,) dtype=float32_ref>,\n",
       " <tf.Variable 'block4_conv3_12/kernel:0' shape=(3, 3, 512, 512) dtype=float32_ref>,\n",
       " <tf.Variable 'block4_conv3_12/bias:0' shape=(512,) dtype=float32_ref>,\n",
       " <tf.Variable 'block5_conv1_12/kernel:0' shape=(3, 3, 512, 512) dtype=float32_ref>,\n",
       " <tf.Variable 'block5_conv1_12/bias:0' shape=(512,) dtype=float32_ref>,\n",
       " <tf.Variable 'block5_conv2_12/kernel:0' shape=(3, 3, 512, 512) dtype=float32_ref>,\n",
       " <tf.Variable 'block5_conv2_12/bias:0' shape=(512,) dtype=float32_ref>,\n",
       " <tf.Variable 'block5_conv3_12/kernel:0' shape=(3, 3, 512, 512) dtype=float32_ref>,\n",
       " <tf.Variable 'block5_conv3_12/bias:0' shape=(512,) dtype=float32_ref>,\n",
       " <tf.Variable 'dense_19/kernel:0' shape=(512, 10) dtype=float32_ref>,\n",
       " <tf.Variable 'dense_19/bias:0' shape=(10,) dtype=float32_ref>]"
      ]
     },
     "execution_count": 70,
     "metadata": {},
     "output_type": "execute_result"
    }
   ],
   "source": [
    "model.trainable_weights"
   ]
  },
  {
   "cell_type": "code",
   "execution_count": 71,
   "metadata": {},
   "outputs": [],
   "source": [
    "# Freezing the weights for transfer learning\n",
    "conv_base.trainable = False"
   ]
  },
  {
   "cell_type": "code",
   "execution_count": 72,
   "metadata": {},
   "outputs": [
    {
     "data": {
      "text/plain": [
       "[<tf.Variable 'dense_19/kernel:0' shape=(512, 10) dtype=float32_ref>,\n",
       " <tf.Variable 'dense_19/bias:0' shape=(10,) dtype=float32_ref>]"
      ]
     },
     "execution_count": 72,
     "metadata": {},
     "output_type": "execute_result"
    }
   ],
   "source": [
    "model.trainable_weights"
   ]
  },
  {
   "cell_type": "code",
   "execution_count": null,
   "metadata": {},
   "outputs": [
    {
     "name": "stdout",
     "output_type": "stream",
     "text": [
      "Train on 60000 samples, validate on 10000 samples\n",
      "Epoch 1/10\n",
      "60000/60000 [==============================] - 758s 13ms/step - loss: 0.3524 - acc: 0.8683 - val_loss: 0.2562 - val_acc: 0.9000\n",
      "Epoch 2/10\n",
      "60000/60000 [==============================] - 719s 12ms/step - loss: 0.2200 - acc: 0.9067 - val_loss: 0.1934 - val_acc: 0.9204\n",
      "Epoch 3/10\n",
      "60000/60000 [==============================] - 748s 12ms/step - loss: 0.1749 - acc: 0.9305 - val_loss: 0.1624 - val_acc: 0.9373\n",
      "Epoch 4/10\n",
      "60000/60000 [==============================] - 893s 15ms/step - loss: 0.1515 - acc: 0.9427 - val_loss: 0.1454 - val_acc: 0.9457\n",
      "Epoch 5/10\n",
      "60000/60000 [==============================] - 914s 15ms/step - loss: 0.1377 - acc: 0.9489 - val_loss: 0.1347 - val_acc: 0.9499\n",
      "Epoch 6/10\n",
      "60000/60000 [==============================] - 759s 13ms/step - loss: 0.1286 - acc: 0.9523 - val_loss: 0.1273 - val_acc: 0.9528\n",
      "Epoch 7/10\n",
      "60000/60000 [==============================] - 764s 13ms/step - loss: 0.1221 - acc: 0.9545 - val_loss: 0.1219 - val_acc: 0.9546\n",
      "Epoch 8/10\n",
      "60000/60000 [==============================] - 752s 13ms/step - loss: 0.1173 - acc: 0.9563 - val_loss: 0.1177 - val_acc: 0.9563\n",
      "Epoch 9/10\n",
      "38912/60000 [==================>...........] - ETA: 4:43 - loss: 0.1137 - acc: 0.9574"
     ]
    }
   ],
   "source": [
    "# Compile the model\n",
    "model.compile(loss=\"binary_crossentropy\", \n",
    "              optimizer=RMSprop(1e-4),\n",
    "              metrics=[\"acc\"])\n",
    "# Train the model\n",
    "history = model.fit(x_train, \n",
    "                    y_train,\n",
    "                    epochs=10,\n",
    "                    batch_size=128,\n",
    "                    shuffle=True,\n",
    "                    validation_data=(x_test, y_test),\n",
    "                    callbacks=[EarlyStopping(monitor='val_loss', min_delta=0, patience=7, verbose=1, mode='auto')])"
   ]
  },
  {
   "cell_type": "code",
   "execution_count": 80,
   "metadata": {},
   "outputs": [
    {
     "name": "stdout",
     "output_type": "stream",
     "text": [
      "10000/10000 [==============================] - 132s 13ms/step\n",
      "[0.11171193940639496, 0.9584700023651123]\n"
     ]
    }
   ],
   "source": [
    "#  Evaluating the model\n",
    "score = model.evaluate(x_test, y_test, verbose=1)\n",
    "print(score)"
   ]
  },
  {
   "cell_type": "code",
   "execution_count": 81,
   "metadata": {},
   "outputs": [
    {
     "data": {
      "image/png": "[encoded data removed]",
      "text/plain": [
       "<Figure size 432x288 with 1 Axes>"
      ]
     },
     "metadata": {},
     "output_type": "display_data"
    },
    {
     "data": {
      "image/png": "[encoded data removed]",
      "text/plain": [
       "<Figure size 432x288 with 1 Axes>"
      ]
     },
     "metadata": {},
     "output_type": "display_data"
    }
   ],
   "source": [
    "# Plot\n",
    "acc = history.history['acc']\n",
    "val_acc = history.history['val_acc']\n",
    "loss = history.history['loss']\n",
    "val_loss = history.history['val_loss']\n",
    "\n",
    "# Training + Valdiation Accuracy\n",
    "epochs = range(1,len(acc) + 1)\n",
    "plt.plot( epochs, acc, 'r', label = 'Training Accuracy')\n",
    "plt.plot( epochs, val_acc, 'b', label = 'Validation Accuracy')\n",
    "plt.title('Training and validation accuracy')\n",
    "plt.legend()\n",
    "plt.figure()\n",
    "\n",
    "# Training + Validation Loss\n",
    "epochs = range(1,len(loss) + 1)\n",
    "plt.plot( epochs, loss, 'r', label = 'Training Loss')\n",
    "plt.plot( epochs, val_loss, 'b', label = 'Validation Loss')\n",
    "plt.title('Training and validation loss')\n",
    "plt.legend()\n",
    "plt.show()"
   ]
  },
  {
   "cell_type": "code",
   "execution_count": null,
   "metadata": {},
   "outputs": [],
   "source": []
  }
 ],
 "metadata": {
  "kernelspec": {
   "display_name": "Python 3",
   "language": "python",
   "name": "python3"
  },
  "language_info": {
   "codemirror_mode": {
    "name": "ipython",
    "version": 3
   },
   "file_extension": ".py",
   "mimetype": "text/x-python",
   "name": "python",
   "nbconvert_exporter": "python",
   "pygments_lexer": "ipython3",
   "version": "3.6.7"
  }
 },
 "nbformat": 4,
 "nbformat_minor": 2
}

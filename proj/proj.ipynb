{
 "cells": [
  {
   "cell_type": "code",
   "execution_count": 11,
   "metadata": {},
   "outputs": [],
   "source": [
    "\"\"\"\n",
    "Modules - include all modules here\n",
    "\"\"\"\n",
    "import tensorflow as tf\n",
    "import numpy as np\n",
    "import pandas as pd\n",
    "import matplotlib as plt\n",
    "import json\n",
    "import os\n",
    "import cv2\n",
    "from pprint import pprint"
   ]
  },
  {
   "cell_type": "code",
   "execution_count": 12,
   "metadata": {},
   "outputs": [],
   "source": [
    "\"\"\"\n",
    "List of classes\n",
    "\"\"\"\n",
    "\n",
    "# DataElement Class\n",
    "class DataElement:\n",
    "    \"\"\"\n",
    "    This object contains variables for a single data\n",
    "    @author: Kevin Jang (kj460)\n",
    "    \"\"\"\n",
    "    label = None        # label (tag number) of this plate\n",
    "    height = None       # height of this plate\n",
    "    width = None        # width of this plate\n",
    "    label_length = None # number of characters in this plate's label\n",
    "    img = None          # parsed image\n",
    "    tags = []           # data tags\n",
    "    \n",
    "    def __init__( self, label, height, width, label_length, img, tags ):\n",
    "        \"\"\"\n",
    "        Constructor for this class\n",
    "        @author: Kevin Jang (kj460)\n",
    "        \"\"\"\n",
    "        self.label = label\n",
    "        self.height = height\n",
    "        self.width = width\n",
    "        self.label_length = label_length\n",
    "        self.img = img\n",
    "        self.tags = tags\n",
    "    \n",
    "    def __str__( self ):\n",
    "        \"\"\"\n",
    "        Returns the value of each variable for this class\n",
    "        @author: Kevin Jang (kj460)\n",
    "        \"\"\"\n",
    "        return \"\\t** Values:\\n\\t\\t* label : {}\\n\\t\\t* height : {}\\n\\t\\t* width : {}\\n\\t\\t* label_length = {}\\n\\t\\t* img = {}\\n\\t\\t* tags = {}\\n\".format( self.label, self.height, self.width, self.label_length, self.img, self.tags )\n",
    "    \n",
    "    def __repr__(self):\n",
    "        \"\"\"\n",
    "        @author: Kevin Jang (kj460)\n",
    "        \"\"\"\n",
    "        return self.__str__()\n",
    "\n",
    "# DataSet Class\n",
    "class DataSet:\n",
    "    \"\"\"\n",
    "    This object contains the list of DataElement for a single dataset\n",
    "    @author: Kevin Jang (kj460)\n",
    "    \"\"\"\n",
    "    data_path = None  # path of the directory that contains data files\n",
    "    data = {}         # list of DataElement\n",
    "    num_redundant = 0 # number of redundant data\n",
    "    num_missing = 0   # number of missing data\n",
    "    num_noisy = 0     # number of noisy data\n",
    "\n",
    "    def __init__( self, data_path ):\n",
    "        \"\"\"\n",
    "        Constructor for this class\n",
    "        @author: Kevin Jang (kj460)\n",
    "        \"\"\"\n",
    "        self.data_path = data_path\n",
    "    \n",
    "    def __str__( self ):\n",
    "        \"\"\"\n",
    "        Returns the state of each DataElement in the data list\n",
    "        @author: Kevin Jang (kj460)\n",
    "        \"\"\"\n",
    "        string = \"\"\n",
    "        for label, data_elem in self.data.items():\n",
    "            string += str( data_elem )\n",
    "        return string\n",
    "    \n",
    "    def valid_json( self, json_data ):\n",
    "        \"\"\"\n",
    "        Returns True if a given json_data is valid else return False\n",
    "        @author: Kevin Jang (kj460)\n",
    "        \"\"\"\n",
    "        if 'description' not in json_data or 'size' not in json_data or 'height' not in json_data[ 'size'] or 'width' not in json_data[ 'size' ] or 'tags' not in json_data or len( json_data[ 'tags' ] ) == 0:\n",
    "            self.num_missing += 1\n",
    "            return False\n",
    "        elif len( json_data[ 'description' ] ) != 8 or int( json_data[ 'size' ][ 'width' ] ) != 152 or int( json_data[ 'size' ][ 'height' ] ) != 34:\n",
    "            self.num_noisy += 1\n",
    "            return False\n",
    "        elif json_data[ 'description' ] in self.data.keys():\n",
    "            self.num_redundant += 1\n",
    "            return False\n",
    "        else:\n",
    "            return True\n",
    "    \n",
    "    def build_dataset( self, num_files ):\n",
    "        \"\"\"\n",
    "        Reads data files and create DataElement for each data file and include it in the data list\n",
    "        @author: Kevin Jang (kj460)\n",
    "        @params:\n",
    "            num_files - number of data files to be read; set this to 'None' to read all the files\n",
    "        \"\"\"\n",
    "        ann_path = self.data_path + '/ann'\n",
    "        img_path = self.data_path + '/img'\n",
    "        count = 0\n",
    "        for file in os.listdir( ann_path ):\n",
    "            if num_files != None and count >= num_files:\n",
    "                # stop reading\n",
    "                break\n",
    "            # file validation\n",
    "            if '.json' not in file:\n",
    "                continue\n",
    "            # process JSON file\n",
    "            json_file = open( ann_path + '/' + file )\n",
    "            json_data = json.load( json_file )\n",
    "            # data validation\n",
    "            if not self.valid_json( json_data ):\n",
    "                continue\n",
    "            # create a new DataElement\n",
    "            data_elem = DataElement( json_data[ 'description' ],\n",
    "                                   json_data[ 'size' ][ 'height' ],\n",
    "                                   json_data[ 'size' ][ 'width' ],\n",
    "                                   len( json_data[ 'description' ] ),\n",
    "                                   None,\n",
    "                                   json_data[ 'tags' ] )\n",
    "            # process PNG file\n",
    "            img_file = cv2.imread( img_path + '/' + ( file.split( '.json' )[ 0 ] ) + '.png' )\n",
    "            img_file = cv2.cvtColor( img_file, cv2.COLOR_BGR2GRAY )\n",
    "            img_file = cv2.resize( img_file, ( data_elem.width, data_elem.height ) )\n",
    "            img_file = img_file.astype( np.float32 ) / 255\n",
    "            # add a new DataElement to the list\n",
    "            data_elem.img = img_file\n",
    "            self.data[ data_elem.label ] = data_elem\n",
    "            count += 1\n",
    "            \n",
    "# TrainTestDataSet Class\n",
    "class TrainTestDataSet:\n",
    "    \"\"\"\n",
    "    This object contains DataSet for training and testing\n",
    "    @author: Kevin Jang (kj460)\n",
    "    \"\"\"\n",
    "    train_data_path = None # path of the directory that contains training data files\n",
    "    test_data_path = None  # path of the directory that contains testing data files\n",
    "    train_dataset = None   # training DataSet object\n",
    "    test_dataset = None    # testing DataSet object\n",
    "    \n",
    "    def __init__( self, train_data_path, test_data_path ):\n",
    "        \"\"\"\n",
    "        Constructor for this class\n",
    "        @author: Kevin Jang (kj460)\n",
    "        \"\"\"\n",
    "        self.train_data_path = train_data_path\n",
    "        self.test_data_path = test_data_path\n",
    "        \n",
    "    def __str__( self ):\n",
    "        \"\"\"\n",
    "        Returns the string that contains information about training and testing dataset\n",
    "        @author: Kevin Jang (kj460)\n",
    "        \"\"\"\n",
    "        return '*** Training Set ***\\n' + str( self.train_dataset ) + '\\n*** Testing Set ***\\n' + str( self.test_dataset )\n",
    "    \n",
    "    def build_train_test_dataset( self ):\n",
    "        \"\"\"\n",
    "        Builds training and testing DataSet\n",
    "        @author: Kevin Jang (kj460)\n",
    "        \"\"\"\n",
    "        self.train_dataset = DataSet( self.train_data_path )\n",
    "        self.train_dataset.build_dataset( None )\n",
    "        self.test_dataset = DataSet( self.test_data_path )\n",
    "        self.test_dataset.build_dataset( None )\n"
   ]
  },
  {
   "cell_type": "code",
   "execution_count": 13,
   "metadata": {},
   "outputs": [],
   "source": [
    "# DataValidator Class\n",
    "class DataValidator:\n",
    "    '''\n",
    "    Validator class to check the data cleanliness\n",
    "    @author: Kevin Jang (kj460)\n",
    "    '''\n",
    "    train_test_dataset = None\n",
    "    \n",
    "    def __init__( self, train_test_dataset ):\n",
    "        \"\"\"\n",
    "        Constructor for this class\n",
    "        @author: Kevin Jang (kj460)\n",
    "        \"\"\"\n",
    "        self.train_test_dataset = train_test_dataset\n",
    "        \n",
    "    def __str__( self ):\n",
    "        \"\"\"\n",
    "        Returns the string that contains information about validation on both training and testing dataset\n",
    "        @author: Kevin Jang (kj460)\n",
    "        \"\"\"\n",
    "        str = '*** DataSet Validation ***\\n'\n",
    "        str += '\\t** Number of Redundant Data\\n'\n",
    "        str += '\\t\\t* Training DataSet : {}\\n'.format( self.train_test_dataset.train_dataset.num_redundant )\n",
    "        str += '\\t\\t* Testing DataSet : {}\\n'.format( self.train_test_dataset.test_dataset.num_redundant )\n",
    "        str += '\\t** Number of Missing Data\\n'\n",
    "        str += '\\t\\t* Training DataSet : {}\\n'.format( self.train_test_dataset.train_dataset.num_missing )\n",
    "        str += '\\t\\t* Testing DataSet : {}\\n'.format( self.train_test_dataset.test_dataset.num_missing )\n",
    "        str += '\\t** Number of Noisy Data\\n'\n",
    "        str += '\\t\\t* Training DataSet : {}\\n'.format( self.train_test_dataset.train_dataset.num_noisy )\n",
    "        str += '\\t\\t* Testing DataSet : {}\\n'.format( self.train_test_dataset.test_dataset.num_noisy )\n",
    "        return str\n",
    "        "
   ]
  },
  {
   "cell_type": "code",
   "execution_count": 14,
   "metadata": {},
   "outputs": [],
   "source": [
    "# directiory that contains the data files\n",
    "train_data_path = 'data/ANPR_OCR__train'\n",
    "test_data_path = 'data/ANPR_OCR__test'\n",
    "\n",
    "# create TrainTestDataSet\n",
    "train_test_dataset = TrainTestDataSet( train_data_path, test_data_path )\n",
    "train_test_dataset.build_train_test_dataset()\n",
    "\n",
    "# print the dataset\n",
    "# print( str( train_test_dataset ) )"
   ]
  },
  {
   "cell_type": "code",
   "execution_count": 15,
   "metadata": {},
   "outputs": [
    {
     "name": "stdout",
     "output_type": "stream",
     "text": [
      "*** DataSet Validation ***\n",
      "\t** Number of Redundant Data\n",
      "\t\t* Training DataSet : 0\n",
      "\t\t* Testing DataSet : 0\n",
      "\t** Number of Missing Data\n",
      "\t\t* Training DataSet : 0\n",
      "\t\t* Testing DataSet : 0\n",
      "\t** Number of Noisy Data\n",
      "\t\t* Training DataSet : 0\n",
      "\t\t* Testing DataSet : 0\n",
      "\n"
     ]
    }
   ],
   "source": [
    "# check the cleanliness of the dataset\n",
    "data_validator = DataValidator( train_test_dataset )\n",
    "print( str ( data_validator ) )"
   ]
  },
  {
   "cell_type": "code",
   "execution_count": 46,
   "metadata": {},
   "outputs": [
    {
     "name": "stdout",
     "output_type": "stream",
     "text": [
      "\t** Values:\n",
      "\t\t* label : A327TK84\n",
      "\t\t* height : 34\n",
      "\t\t* width : 152\n",
      "\t\t* label_length = 8\n",
      "\t\t* img = [[0.8235294  0.5058824  0.38431373 ... 0.38431373 0.5058824  0.8235294 ]\n",
      " [0.28235295 0.2        0.09803922 ... 0.09803922 0.2        0.28235295]\n",
      " [0.09803922 0.09803922 0.29411766 ... 0.29411766 0.09803922 0.09803922]\n",
      " ...\n",
      " [0.1764706  0.09803922 0.12941177 ... 0.12941177 0.09803922 0.1764706 ]\n",
      " [0.58431375 0.15686275 0.09803922 ... 0.09803922 0.15686275 0.58431375]\n",
      " [0.7411765  0.7137255  0.6862745  ... 0.6862745  0.7137255  0.7411765 ]]\n",
      "\t\t* tags = ['train']\n",
      "\n"
     ]
    }
   ],
   "source": [
    "print(train_test_dataset.train_dataset.data['A327TK84'])"
   ]
  },
  {
   "cell_type": "code",
   "execution_count": 276,
   "metadata": {},
   "outputs": [],
   "source": [
    "import tensorflow as tf\n",
    "import keras\n",
    "from keras.layers.convolutional import Conv2D, MaxPooling2D\n",
    "from keras.layers import Input, Dense, Activation, Reshape, Lambda, LSTM, Dropout, Conv2D, MaxPooling2D, Embedding\n",
    "from keras import backend as K\n",
    "from keras.models import Model, Sequential\n",
    "from keras.layers.recurrent import GRU\n",
    "from keras.layers.merge import add, concatenate\n",
    "import random\n",
    "import matplotlib.pyplot as plt\n",
    "import matplotlib.gridspec as gridspec"
   ]
  },
  {
   "cell_type": "code",
   "execution_count": 282,
   "metadata": {},
   "outputs": [],
   "source": [
    "sess = tf.Session()\n",
    "K.set_session(sess)"
   ]
  },
  {
   "cell_type": "code",
   "execution_count": 288,
   "metadata": {},
   "outputs": [],
   "source": [
    "char_set = set()\n",
    "for key, value in train_test_dataset.train_dataset.data.items():\n",
    "    for c in key:\n",
    "        char_set.add(c)\n",
    "char_list = sorted(list(char_set))\n",
    "\n",
    "def text_to_indices(text):\n",
    "    return list(map(lambda x: char_list.index(x), text))\n",
    "\n",
    "def indices_to_text(indices):\n",
    "    return ''.join(list(map(lambda x: char_list[int(x)], indices)))\n",
    "\n",
    "def output_size():\n",
    "    return len(char_list) + 1\n",
    "\n",
    "def decoding_to_text(y):\n",
    "    result = []\n",
    "    for i in range(y.shape[0]):\n",
    "        prev = -1\n",
    "        max_index = 0\n",
    "        s = ''\n",
    "        for j in range(len(y[0])):\n",
    "            for k in range(len(y[0][0])):\n",
    "                if y[i][j][k] > y[i][j][max_index]:\n",
    "                    max_index = k\n",
    "            if max_index is not prev and max_index < len(char_list):\n",
    "                #sublist.append(y[i][j][max_index])\n",
    "                s = s + char_list[max_index]\n",
    "            prev = max_index\n",
    "        result.append(s)\n",
    "    return result"
   ]
  },
  {
   "cell_type": "code",
   "execution_count": 284,
   "metadata": {},
   "outputs": [],
   "source": [
    "X_train = []\n",
    "y_train = []\n",
    "\n",
    "for key, value in train_test_dataset.train_dataset.data.items():\n",
    "    X_train.append(value.img)\n",
    "    y_train.append(text_to_indices(key))"
   ]
  },
  {
   "cell_type": "code",
   "execution_count": 285,
   "metadata": {},
   "outputs": [],
   "source": [
    "class TextImageGenerator:\n",
    "    def __init__(self, ds, img_w, img_h, batch_size, downsample_factor, max_text_len=8):\n",
    "        self.max_text_len = 8\n",
    "        self.img_h = img_h\n",
    "        self.img_w = img_w\n",
    "        self.batch_size = batch_size\n",
    "        self.max_text_len = max_text_len\n",
    "        self.downsample_factor = downsample_factor\n",
    "        \n",
    "        self.samples = []\n",
    "        for key, value in ds.data.items():\n",
    "            self.samples.append(key)\n",
    "            \n",
    "        self.n = len(self.samples)\n",
    "        self.indexes = list(range(self.n))\n",
    "        self.cur_index = 0\n",
    "        self.imgs = np.zeros((self.n, self.img_h, self.img_w))\n",
    "        self.texts = []\n",
    "        for i, (key, value) in enumerate(ds.data.items()):\n",
    "            self.imgs[i, :, :] = value.img\n",
    "            self.texts.append(key)\n",
    "        \n",
    "    def next_sample(self):\n",
    "        self.cur_index += 1\n",
    "        if self.cur_index >= self.n:\n",
    "            self.cur_index = 0\n",
    "            random.shuffle(self.indexes)\n",
    "        return self.imgs[self.indexes[self.cur_index]], self.texts[self.indexes[self.cur_index]]\n",
    "\n",
    "    def next_batch(self):\n",
    "        img_h = 34\n",
    "        img_w = 152\n",
    "        while True:\n",
    "            if K.image_data_format() == 'channels_first':\n",
    "                X_data = np.ones([8, 1, img_w, img_h])\n",
    "            else:\n",
    "                X_data = np.ones([8, img_w, img_h, 1])\n",
    "        \n",
    "            Y_data = np.ones([8, 8])\n",
    "            input_length = np.ones((8, 1)) * (img_w // 4 - 2)\n",
    "            label_length = np.zeros((8, 1))\n",
    "            source_str = []\n",
    "            \n",
    "            for i in range(8):\n",
    "                img, text = self.next_sample()\n",
    "                img = img.T\n",
    "                if K.image_data_format() == 'channels_first':\n",
    "                    img = np.expand_dims(img, 0)\n",
    "                else:\n",
    "                    img = np.expand_dims(img, -1)\n",
    "                X_data[i] = img\n",
    "                Y_data[i] = text_to_indices(text)\n",
    "                label_length[i] = len(text)\n",
    "            \n",
    "            inputs = {\n",
    "                'the_input': X_data,\n",
    "                'the_labels': Y_data,\n",
    "                'input_length': input_length,\n",
    "                'label_length': label_length,\n",
    "            }\n",
    "            outputs = {'ctc': np.zeros([self.batch_size])}\n",
    "            yield (inputs, outputs)"
   ]
  },
  {
   "cell_type": "code",
   "execution_count": 286,
   "metadata": {},
   "outputs": [
    {
     "name": "stdout",
     "output_type": "stream",
     "text": [
      "last\n",
      "_________________________________________________________________\n",
      "Layer (type)                 Output Shape              Param #   \n",
      "=================================================================\n",
      "the_input (InputLayer)       (None, 152, 34, 1)        0         \n",
      "_________________________________________________________________\n",
      "conv2d_159 (Conv2D)          (None, 152, 34, 32)       320       \n",
      "_________________________________________________________________\n",
      "max_pooling2d_157 (MaxPoolin (None, 76, 17, 32)        0         \n",
      "_________________________________________________________________\n",
      "conv2d_160 (Conv2D)          (None, 76, 17, 32)        9248      \n",
      "_________________________________________________________________\n",
      "max_pooling2d_158 (MaxPoolin (None, 38, 8, 32)         0         \n",
      "_________________________________________________________________\n",
      "reshape_65 (Reshape)         (None, 38, 256)           0         \n",
      "_________________________________________________________________\n",
      "dense_116 (Dense)            (None, 38, 32)            8224      \n",
      "_________________________________________________________________\n",
      "lstm_70 (LSTM)               (None, 38, 64)            24832     \n",
      "_________________________________________________________________\n",
      "dense_117 (Dense)            (None, 38, 23)            1495      \n",
      "_________________________________________________________________\n",
      "softmax (Activation)         (None, 38, 23)            0         \n",
      "=================================================================\n",
      "Total params: 44,119\n",
      "Trainable params: 44,119\n",
      "Non-trainable params: 0\n",
      "_________________________________________________________________\n"
     ]
    }
   ],
   "source": [
    "img_h = 34\n",
    "img_w = 152\n",
    "\n",
    "def ctc_lambda_func(args):\n",
    "    y_pred, labels, input_length, label_length = args\n",
    "    y_pred = y_pred[:, 2:, :]\n",
    "    return K.ctc_batch_cost(labels, y_pred, input_length, label_length)\n",
    "\n",
    "\n",
    "\n",
    "if K.image_data_format() == 'channels_first':\n",
    "    input_shape = (1, img_w, img_h)\n",
    "    print('first')\n",
    "else:\n",
    "    input_shape = (img_w, img_h, 1)\n",
    "    print('last')\n",
    "\n",
    "\n",
    "tiger_train = TextImageGenerator(train_test_dataset.train_dataset, img_w, img_h, 8, 4)\n",
    "\n",
    "input_data = Input(name='the_input', shape=input_shape, dtype='float32')\n",
    "#input_data = Embedding(output_size(), img_w, input_length=img_h)\n",
    "x = Conv2D(filters=32, kernel_size=(3, 3), padding='same', activation='relu')(input_data)\n",
    "x = MaxPooling2D(pool_size=(2, 2))(x)\n",
    "x = Conv2D(filters=32, kernel_size=(3, 3), padding='same', activation='relu')(x)\n",
    "x = MaxPooling2D(pool_size=(2, 2))(x)\n",
    "x = Reshape(target_shape=(img_w // 4, (img_h // 4) * 32))(x)\n",
    "x = Dense(32, activation='relu')(x)\n",
    "\n",
    "x = LSTM(64, return_sequences=True)(x)\n",
    "#x = LSTM(256, return_sequences=True)(x)\n",
    "#x = Dropout(0.3)(x)\n",
    "x = Dense(output_size(), activation='relu')(x)\n",
    "y_pred = Activation('softmax', name='softmax')(x)\n",
    "Model(inputs=input_data, outputs=y_pred).summary()\n",
    "#y_pred = decoding_to_text(y_pred)\n",
    "#model = Model(inputs=input_data, outputs=y_pred)\n",
    "#model.compile(loss = 'categorical_crossentropy', optimizer = 'rmsprop', metrics=['acc'])\n",
    "#model.summary()\n",
    "\n",
    "\n",
    "labels = Input(name='the_labels', shape=[tiger_train.max_text_len], dtype='float32')\n",
    "input_length = Input(name='input_length', shape=[1], dtype='int64')\n",
    "label_length = Input(name='label_length', shape=[1], dtype='int64')\n",
    "loss_out = Lambda(ctc_lambda_func, output_shape=(1,), name='ctc')([y_pred, labels, input_length, label_length])\n",
    "model = Model(inputs=[input_data, labels, input_length, label_length], outputs=loss_out)\n",
    "model.compile(loss={'ctc': lambda y_true, y_pred: y_pred}, optimizer='rmsprop')\n",
    "test_func = K.function([input_data], [y_pred])"
   ]
  },
  {
   "cell_type": "code",
   "execution_count": 287,
   "metadata": {},
   "outputs": [
    {
     "name": "stdout",
     "output_type": "stream",
     "text": [
      "Epoch 1/1\n",
      "11382/11382 [==============================] - 691s 61ms/step - loss: 14.3305\n"
     ]
    },
    {
     "data": {
      "text/plain": [
       "<keras.callbacks.History at 0xb3b9629e8>"
      ]
     },
     "execution_count": 287,
     "metadata": {},
     "output_type": "execute_result"
    }
   ],
   "source": [
    "model.fit_generator(generator=tiger_train.next_batch(), steps_per_epoch=tiger_train.n, epochs=1)"
   ]
  },
  {
   "cell_type": "code",
   "execution_count": 289,
   "metadata": {},
   "outputs": [
    {
     "name": "stdout",
     "output_type": "stream",
     "text": [
      "Predicted: X832X\n",
      "True: M832XM11\n"
     ]
    },
    {
     "data": {
      "image/png": "[encoded data removed]",
      "text/plain": [
       "<Figure size 432x288 with 2 Axes>"
      ]
     },
     "metadata": {},
     "output_type": "display_data"
    },
    {
     "name": "stdout",
     "output_type": "stream",
     "text": [
      "Predicted: X78Y\n",
      "True: H178YO11\n"
     ]
    },
    {
     "data": {
      "image/png": "[encoded data removed]",
      "text/plain": [
       "<Figure size 432x288 with 2 Axes>"
      ]
     },
     "metadata": {},
     "output_type": "display_data"
    },
    {
     "name": "stdout",
     "output_type": "stream",
     "text": [
      "Predicted: X7P8\n",
      "True: O756PH18\n"
     ]
    },
    {
     "data": {
      "image/png": "[encoded data removed]",
      "text/plain": [
       "<Figure size 432x288 with 2 Axes>"
      ]
     },
     "metadata": {},
     "output_type": "display_data"
    },
    {
     "name": "stdout",
     "output_type": "stream",
     "text": [
      "Predicted: X84070\n",
      "True: O840KB70\n"
     ]
    },
    {
     "data": {
      "image/png": "[encoded data removed]",
      "text/plain": [
       "<Figure size 432x288 with 2 Axes>"
      ]
     },
     "metadata": {},
     "output_type": "display_data"
    },
    {
     "name": "stdout",
     "output_type": "stream",
     "text": [
      "Predicted: XP223X42\n",
      "True: P223TX42\n"
     ]
    },
    {
     "data": {
      "image/png": "[encoded data removed]",
      "text/plain": [
       "<Figure size 432x288 with 2 Axes>"
      ]
     },
     "metadata": {},
     "output_type": "display_data"
    },
    {
     "name": "stdout",
     "output_type": "stream",
     "text": [
      "Predicted: X4\n",
      "True: K545HE91\n"
     ]
    },
    {
     "data": {
      "image/png": "[encoded data removed]",
      "text/plain": [
       "<Figure size 432x288 with 2 Axes>"
      ]
     },
     "metadata": {},
     "output_type": "display_data"
    },
    {
     "name": "stdout",
     "output_type": "stream",
     "text": [
      "Predicted: X384P\n",
      "True: T384PK96\n"
     ]
    },
    {
     "data": {
      "image/png": "[encoded data removed]",
      "text/plain": [
       "<Figure size 432x288 with 2 Axes>"
      ]
     },
     "metadata": {},
     "output_type": "display_data"
    },
    {
     "name": "stdout",
     "output_type": "stream",
     "text": [
      "Predicted: X02\n",
      "True: X111AT02\n"
     ]
    },
    {
     "data": {
      "image/png": "[encoded data removed]",
      "text/plain": [
       "<Figure size 432x288 with 2 Axes>"
      ]
     },
     "metadata": {},
     "output_type": "display_data"
    }
   ],
   "source": [
    "tiger_test = TextImageGenerator(train_test_dataset.train_dataset, img_w, img_h, 8, 4)\n",
    "\n",
    "net_inp = model.get_layer(name='the_input').input\n",
    "net_out = model.get_layer(name='softmax').output\n",
    "\n",
    "for inp_value, _ in tiger_test.next_batch():\n",
    "    bs = inp_value['the_input'].shape[0]\n",
    "    X_data = inp_value['the_input']\n",
    "    net_out_value = sess.run(net_out, feed_dict={net_inp:X_data})\n",
    "    pred_texts = decoding_to_text(net_out_value)\n",
    "    labels = inp_value['the_labels']\n",
    "    texts = []\n",
    "    \n",
    "    for label in labels:\n",
    "        text = ''.join(list(map(lambda x: char_list[int(x)], label)))\n",
    "        texts.append(text)\n",
    "    \n",
    "    for i in range(bs):\n",
    "        #fig = plt.figure(figsize=(10, 10))\n",
    "        fig = plt.figure()\n",
    "        outer = gridspec.GridSpec(2, 1, wspace=10, hspace=0.1)\n",
    "        ax1 = plt.Subplot(fig, outer[0])\n",
    "        fig.add_subplot(ax1)\n",
    "        ax2 = plt.Subplot(fig, outer[1])\n",
    "        fig.add_subplot(ax2)\n",
    "        print('Predicted: %s\\nTrue: %s' % (pred_texts[i], texts[i]))\n",
    "        img = X_data[i][:, :, 0].T\n",
    "        ax1.set_title('Input img')\n",
    "        ax1.imshow(img, cmap='gray')\n",
    "        ax1.set_xticks([])\n",
    "        ax1.set_yticks([])\n",
    "        ax2.set_title('Activations')\n",
    "        ax2.imshow(net_out_value[i].T, cmap='binary', interpolation='nearest')\n",
    "        ax2.set_yticks(list(range(len(char_list) + 1)))\n",
    "        ax2.set_yticklabels(char_list + ['blank'])\n",
    "        ax2.grid(False)\n",
    "        for h in np.arange(-0.5, len(char_list) + 1 + 0.5, 1):\n",
    "            ax2.axhline(h, linestyle='-', color='k', alpha=0.5, linewidth=1)\n",
    "        \n",
    "        plt.show()\n",
    "    break"
   ]
  },
  {
   "cell_type": "code",
   "execution_count": null,
   "metadata": {},
   "outputs": [],
   "source": []
  }
 ],
 "metadata": {
  "kernelspec": {
   "display_name": "Python 3",
   "language": "python",
   "name": "python3"
  },
  "language_info": {
   "codemirror_mode": {
    "name": "ipython",
    "version": 3
   },
   "file_extension": ".py",
   "mimetype": "text/x-python",
   "name": "python",
   "nbconvert_exporter": "python",
   "pygments_lexer": "ipython3",
   "version": "3.6.5"
  }
 },
 "nbformat": 4,
 "nbformat_minor": 2
}
